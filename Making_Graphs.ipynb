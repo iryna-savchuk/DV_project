{
 "cells": [
  {
   "cell_type": "markdown",
   "id": "1e4ae973",
   "metadata": {},
   "source": [
    "**Authors**: <br>\n",
    "    Iryna Savchuk | 20211310 <br>\n",
    "    Cátia Parrinha | 20201320 <br>\n",
    "    Gueu..."
   ]
  },
  {
   "cell_type": "markdown",
   "id": "b08bde00",
   "metadata": {},
   "source": [
    "**Table of Contents** <br>\n",
    "* [Import Libraries](#importlibraries)\n",
    "* [Age](#age)\n",
    "* [Gender](#gender)\n",
    "* [Category](#category)\n",
    "* [Age by Gender](#agebygender)\n",
    "* [Cetegory by Gender](#categorybygender)\n",
    "* [Top winners by Country, Region and Country Income](#topwinners)"
   ]
  },
  {
   "cell_type": "markdown",
   "id": "f095a444",
   "metadata": {},
   "source": [
    "<hr>\n",
    "<a class=\"anchor\" id=\"importlibraries\">\n",
    "    \n",
    "# Import libraries\n",
    "    \n",
    "</a>"
   ]
  },
  {
   "cell_type": "code",
   "execution_count": 1,
   "id": "7f437d17",
   "metadata": {},
   "outputs": [],
   "source": [
    "import pandas as pd\n",
    "import numpy as np\n",
    "\n",
    "import plotly.graph_objects as go\n",
    "from plotly.subplots import make_subplots\n",
    "import plotly.express as px\n",
    "import plotly.figure_factory as ff\n",
    "\n",
    "import geojson\n",
    "import country_converter as coco # to convert and match country names"
   ]
  },
  {
   "cell_type": "code",
   "execution_count": 2,
   "id": "2fbbbccd",
   "metadata": {},
   "outputs": [],
   "source": [
    "df = pd.read_csv('data/merged.csv')"
   ]
  },
  {
   "cell_type": "markdown",
   "id": "c034a739",
   "metadata": {},
   "source": [
    "<hr>\n",
    "<a class=\"anchor\" id=\"age\">\n",
    "    \n",
    "# Age\n",
    "    \n",
    "</a>"
   ]
  },
  {
   "cell_type": "code",
   "execution_count": 3,
   "id": "cef9cd9e",
   "metadata": {},
   "outputs": [],
   "source": [
    "x = df['prizeAge']\n",
    "hist_data = dict(type='histogram', x=x, marker=dict(color='silver'))\n",
    "layout = dict(title=dict(text='Ages Distribution'))\n",
    "fig_1 = go.Figure(data=hist_data, layout=layout)\n",
    "fig_1.show(renderer='browser')"
   ]
  },
  {
   "cell_type": "markdown",
   "id": "45ec3c55",
   "metadata": {},
   "source": [
    "<hr>\n",
    "<a class=\"anchor\" id=\"gender\">\n",
    "    \n",
    "# Gender\n",
    "    \n",
    "</a>"
   ]
  },
  {
   "cell_type": "code",
   "execution_count": 4,
   "id": "bafe3824",
   "metadata": {},
   "outputs": [
    {
     "data": {
      "text/plain": [
       "array(['male', 'female'], dtype=object)"
      ]
     },
     "execution_count": 4,
     "metadata": {},
     "output_type": "execute_result"
    }
   ],
   "source": [
    "df['gender'].unique()"
   ]
  },
  {
   "cell_type": "code",
   "execution_count": 5,
   "id": "67963291",
   "metadata": {},
   "outputs": [],
   "source": [
    "gender_labels = df['gender'].value_counts()\n",
    "gender_values = (gender_labels / gender_labels.sum()) * 100\n",
    "unique_genders = df['gender'].unique()\n",
    "\n",
    "gender_data = dict(type='pie',\n",
    "                        labels=unique_genders,\n",
    "                        values=gender_values,\n",
    "                        textposition='inside', \n",
    "                        hole=0.6,\n",
    "                        marker=dict(colors=['#333F44', '#37AA9C']) # '#94F3E4'\n",
    "                        )\n",
    "\n",
    "gender_layout = dict(title=dict(text='Prizes by Gender')\n",
    "                  )\n",
    "\n",
    "gender = go.Figure(data=[gender_data], layout=gender_layout)\n",
    "\n",
    "gender.show(renderer='browser')"
   ]
  },
  {
   "cell_type": "markdown",
   "id": "546abcaf",
   "metadata": {},
   "source": [
    "<hr>\n",
    "<a class=\"anchor\" id=\"category\">\n",
    "    \n",
    "# Category \n",
    "    \n",
    "</a>"
   ]
  },
  {
   "cell_type": "code",
   "execution_count": 6,
   "id": "40c0bb1a",
   "metadata": {},
   "outputs": [],
   "source": [
    "category_labels = df['category'].value_counts()\n",
    "category_values = (category_labels / category_labels.sum()) * 100\n",
    "unique_category = df['category'].unique()\n",
    "\n",
    "bar_category_data = dict(type='bar',\n",
    "                        x=unique_category,\n",
    "                        y=category_values,\n",
    "                        marker=dict(color=['#333F44', '#4D5A64', '#68757E', '#828F99', '#9DA9B3', '#B7C4CE', '#D2DEE8', '#A9EDE2', '#93d9f2', '#94F3E4']))\n",
    "\n",
    "bar_category_layout = dict(title=dict(text='Prizes by Category'), xaxis=dict(title='category'), yaxis=dict(title='Percentage'),\n",
    "                           paper_bgcolor='rgba(0,0,0,0)', plot_bgcolor='rgba(0,0,0,0)'\n",
    "                  )\n",
    "\n",
    "bar_fig = go.Figure(data=[bar_category_data], layout=bar_category_layout)\n",
    "\n",
    "bar_fig.show(renderer='browser')"
   ]
  },
  {
   "cell_type": "markdown",
   "id": "17561540",
   "metadata": {},
   "source": [
    "<hr>\n",
    "<a class=\"anchor\" id=\"agebygender\">\n",
    "    \n",
    "# Age by Gender\n",
    "    \n",
    "</a>"
   ]
  },
  {
   "cell_type": "code",
   "execution_count": 7,
   "id": "695fa6ed",
   "metadata": {},
   "outputs": [],
   "source": [
    "# Filter data by gender\n",
    "male_data = df.loc[df['gender'] == 'male', 'prizeAge']\n",
    "female_data = df.loc[df['gender'] == 'female', 'prizeAge']\n",
    "\n",
    "# Create traces for each group\n",
    "male_hist = go.Histogram(x=male_data, name='Male', marker=dict(color='#333F44'))\n",
    "female_hist = go.Histogram(x=female_data, name='Female', marker=dict(color='#37AA9C'))\n",
    "\n",
    "# Create layout\n",
    "layout = go.Layout(title=dict(text='Ages Distribution by Gender'), \n",
    "                  paper_bgcolor='rgba(0,0,0,0)', plot_bgcolor='rgba(0,0,0,0)')\n",
    "\n",
    "# Create figure and plot\n",
    "fig_1 = go.Figure(data=[male_hist, female_hist], layout=layout)\n",
    "fig_1.show(renderer='browser')"
   ]
  },
  {
   "cell_type": "code",
   "execution_count": 8,
   "id": "170d7f3a",
   "metadata": {},
   "outputs": [],
   "source": [
    "fig = px.histogram(df, x = 'prizeAge', color = 'gender', \n",
    "                  marginal = 'box', # or violin, rug, box\n",
    "                  hover_data = df.columns,\n",
    "                  color_discrete_sequence=['#333F44', '#37AA9C'])\n",
    "\n",
    "fig.update_layout(plot_bgcolor='rgba(0,0,0,0)')\n",
    "\n",
    "fig.show(renderer='browser')"
   ]
  },
  {
   "cell_type": "code",
   "execution_count": 9,
   "id": "0872990a",
   "metadata": {},
   "outputs": [],
   "source": [
    "fig = go.Figure()\n",
    "fig.add_trace(go.Histogram(name = 'Male', x=male_data, marker_color = '#333F44'))\n",
    "fig.add_trace(go.Histogram(name = 'Female', x=female_data, marker_color = '#37AA9C'))\n",
    "\n",
    "# Overlay both histograms\n",
    "fig.update_layout(barmode='overlay', plot_bgcolor='rgba(0,0,0,0)')\n",
    "# Reduce opacity to see both histograms\n",
    "fig.update_traces(opacity=0.75)\n",
    "fig.show(renderer='browser')"
   ]
  },
  {
   "cell_type": "code",
   "execution_count": 10,
   "id": "1aadb857",
   "metadata": {},
   "outputs": [],
   "source": [
    "# Filter data by gender\n",
    "male_data = df.loc[df['gender'] == 'male', 'prizeAge']\n",
    "female_data = df.loc[df['gender'] == 'female', 'prizeAge']\n",
    "\n",
    "# Group data together\n",
    "hist_data = [male_data, female_data]\n",
    "\n",
    "group_labels = ['Male', 'Female']\n",
    "\n",
    "colors = ['#333F44', '#37AA9C']\n",
    "\n",
    "# Create distplot with custom bin_size\n",
    "fig = ff.create_distplot(hist_data, group_labels, show_hist = False, colors = colors)\n",
    "# Add title\n",
    "fig.update_layout(title_text = 'Ages Distribution by Gender',  \n",
    "                  paper_bgcolor='rgba(0,0,0,0)', \n",
    "                  plot_bgcolor='rgba(0,0,0,0)')\n",
    "fig.show(renderer='browser')"
   ]
  },
  {
   "cell_type": "markdown",
   "id": "6f30eb96",
   "metadata": {},
   "source": [
    "<hr>\n",
    "<a class=\"anchor\" id=\"categorybygender\">\n",
    "    \n",
    "# Category by gender\n",
    "    \n",
    "</a>"
   ]
  },
  {
   "cell_type": "code",
   "execution_count": 11,
   "id": "f7b4d88e",
   "metadata": {},
   "outputs": [],
   "source": [
    "# Filter data by gender\n",
    "male_data = df.loc[df['gender'] == 'male', :]\n",
    "female_data = df.loc[df['gender'] == 'female', :]\n",
    "\n",
    "# Compute category values for each group\n",
    "male_category_labels = male_data['category'].value_counts()\n",
    "female_category_labels = female_data['category'].value_counts()\n",
    "\n",
    "# Create traces for each group\n",
    "male_bar = go.Bar(x=male_category_labels.index, y=male_category_labels.values, name='Male', marker=dict(color='#333F44'))\n",
    "female_bar = go.Bar(x=female_category_labels.index, y=female_category_labels.values, name='Female', marker=dict(color='#37AA9C'))\n",
    "\n",
    "# Create layout\n",
    "layout = go.Layout(title=dict(text='Prizes by Category'), \n",
    "                   xaxis=dict(title='category'), \n",
    "                   yaxis=dict(title='Count'),  \n",
    "                   paper_bgcolor='rgba(0,0,0,0)', \n",
    "                   plot_bgcolor='rgba(0,0,0,0)')\n",
    "\n",
    "# Create figure and plot\n",
    "fig = go.Figure(data=[male_bar, female_bar], layout=layout)\n",
    "fig.show(renderer='browser')"
   ]
  },
  {
   "cell_type": "code",
   "execution_count": 12,
   "id": "a8f25a94",
   "metadata": {},
   "outputs": [],
   "source": [
    "fig = px.histogram(df, x='prizeAge', color='gender',\n",
    "                   marginal='box', # or violin, rug, box\n",
    "                   hover_data=df.columns,\n",
    "                   color_discrete_sequence=['#333F44', '#37AA9C'],\n",
    "                   facet_col='category')  # add facet_col argument\n",
    "\n",
    "fig.update_layout(plot_bgcolor='rgba(0,0,0,0)')\n",
    "\n",
    "fig.show(renderer='browser')"
   ]
  },
  {
   "cell_type": "markdown",
   "id": "3508c7a2",
   "metadata": {},
   "source": [
    "<hr>\n",
    "<a class=\"anchor\" id=\"topwinners\">\n",
    "    \n",
    "# Top winners by Country, Region and Country Income\n",
    "    \n",
    "</a>"
   ]
  },
  {
   "cell_type": "code",
   "execution_count": 13,
   "id": "0d9a20f3",
   "metadata": {},
   "outputs": [],
   "source": [
    "# Compute country counts and sort in descending order\n",
    "country_counts = df['bornCountry'].value_counts().sort_values(ascending=False)\n",
    "\n",
    "# Select top 10 countries\n",
    "top_countries = country_counts.iloc[:10]\n",
    "\n",
    "# Create bar trace\n",
    "bar_country_trace = go.Bar(x=top_countries.index, y=top_countries.values, marker=dict(color=['#9DA9B3'] + ['#333F44']*(len(top_countries)-1)))\n",
    "\n",
    "# Create layout\n",
    "layout = go.Layout(title=dict(text='Counts by Country of Birth'), \n",
    "                   xaxis=dict(title='Country'), \n",
    "                   yaxis=dict(title='Count'), \n",
    "                   paper_bgcolor='rgba(0,0,0,0)', \n",
    "                   plot_bgcolor='rgba(0,0,0,0)')\n",
    "\n",
    "# Create figure and plot\n",
    "fig_countries = go.Figure(data=[bar_country_trace], layout=layout)\n",
    "fig_countries.show(renderer='browser')"
   ]
  },
  {
   "cell_type": "code",
   "execution_count": 14,
   "id": "bff662ee",
   "metadata": {},
   "outputs": [],
   "source": [
    "# Compute region counts and sort in descending order\n",
    "region_counts = df['region'].value_counts().sort_values(ascending=False)\n",
    "\n",
    "# Select top 10 regions\n",
    "top_regions = region_counts.iloc[:10]\n",
    "\n",
    "# Create bar trace\n",
    "bar_region_trace = go.Bar(x=top_regions.index, y=top_regions.values, marker=dict(color=['#9DA9B3'] + ['#333F44']*(len(top_regions)-1)))\n",
    "\n",
    "# Create layout\n",
    "layout = go.Layout(title=dict(text='Counts by Regions of Birth'), \n",
    "                   xaxis=dict(title='Region'), \n",
    "                   yaxis=dict(title='Count'),\n",
    "                   paper_bgcolor='rgba(0,0,0,0)', \n",
    "                   plot_bgcolor='rgba(0,0,0,0)')\n",
    "\n",
    "# Create figure and plot\n",
    "fig_regions = go.Figure(data=[bar_region_trace], layout=layout)\n",
    "fig_regions.show(renderer='browser')"
   ]
  },
  {
   "cell_type": "code",
   "execution_count": 15,
   "id": "519d8dc3",
   "metadata": {},
   "outputs": [],
   "source": [
    "# Compute income counts and sort in descending order\n",
    "income_counts = df['income'].value_counts().sort_values(ascending=False)\n",
    "\n",
    "# Select top 10 income\n",
    "top_income = income_counts.iloc[:10]\n",
    "\n",
    "# Create bar trace\n",
    "bar_income_trace = go.Bar(x=top_income.index, y=top_income.values, marker=dict(color=['#9DA9B3'] + ['#333F44']*(len(top_income)-1)))\n",
    "\n",
    "# Create layout\n",
    "layout = go.Layout(title=dict(text='Counts by County Income'), \n",
    "                   xaxis=dict(title='Region'), \n",
    "                   yaxis=dict(title='Count'),\n",
    "                   paper_bgcolor='rgba(0,0,0,0)', \n",
    "                   plot_bgcolor='rgba(0,0,0,0)')\n",
    "\n",
    "# Create figure and plot\n",
    "fig_income = go.Figure(data=[bar_income_trace], layout=layout)\n",
    "fig_income.show(renderer='browser')"
   ]
  },
  {
   "cell_type": "code",
   "execution_count": 16,
   "id": "1c1fb9ac",
   "metadata": {},
   "outputs": [],
   "source": [
    "# Subplotly this 3 previous graphs\n",
    "\n",
    "subplot_titles = ['Country', 'Region', 'Income']\n",
    "\n",
    "sub_1 = make_subplots(rows=1, cols=3, \n",
    "                    specs=[[dict(type='xy'),  dict(type='xy'), dict(type='xy')]],\n",
    "                    subplot_titles=subplot_titles\n",
    "                   )\n",
    "\n",
    "sub_1.add_trace(bar_country_trace, row=1, col=1)\n",
    "sub_1.add_trace(bar_region_trace, row=1, col=2)\n",
    "sub_1.add_trace(bar_income_trace, row=1, col=3)\n",
    "\n",
    "sub_1.show(renderer='browser')"
   ]
  },
  {
   "cell_type": "code",
   "execution_count": null,
   "id": "4fc2ad6d",
   "metadata": {},
   "outputs": [],
   "source": []
  }
 ],
 "metadata": {
  "kernelspec": {
   "display_name": "Python 3 (ipykernel)",
   "language": "python",
   "name": "python3"
  },
  "language_info": {
   "codemirror_mode": {
    "name": "ipython",
    "version": 3
   },
   "file_extension": ".py",
   "mimetype": "text/x-python",
   "name": "python",
   "nbconvert_exporter": "python",
   "pygments_lexer": "ipython3",
   "version": "3.9.13"
  }
 },
 "nbformat": 4,
 "nbformat_minor": 5
}
