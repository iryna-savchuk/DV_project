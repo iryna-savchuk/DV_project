{
 "cells": [
  {
   "cell_type": "markdown",
   "id": "1e4ae973",
   "metadata": {},
   "source": [
    "**Authors**: <br>\n",
    "    Iryna Savchuk | 20211310 <br>\n",
    "    Cátia Parrinha | 20201320 <br>\n",
    "    Gueu..."
   ]
  },
  {
   "cell_type": "markdown",
   "id": "b08bde00",
   "metadata": {},
   "source": [
    "**Table of Contents** <br>\n",
    "* [Import Libraries](#importlibraries)\n",
    "* [Age](#age)\n",
    "* [Gender](#gender)\n",
    "* [Category](#category)\n",
    "* [Age by Gender](#agebygender)\n",
    "* [Cetegory by Gender](#categorybygender)\n",
    "* [Top winners by Country, Region and Country Income](#topwinners)"
   ]
  },
  {
   "cell_type": "markdown",
   "id": "f095a444",
   "metadata": {},
   "source": [
    "<hr>\n",
    "<a class=\"anchor\" id=\"importlibraries\">\n",
    "    \n",
    "# Import libraries\n",
    "    \n",
    "</a>"
   ]
  },
  {
   "cell_type": "code",
   "execution_count": 13,
   "id": "7f437d17",
   "metadata": {},
   "outputs": [],
   "source": [
    "import pandas as pd\n",
    "import numpy as np\n",
    "\n",
    "import plotly.graph_objects as go\n",
    "from plotly.subplots import make_subplots\n",
    "import plotly.express as px\n",
    "import plotly.figure_factory as ff\n",
    "\n",
    "import geojson\n",
    "import country_converter as coco # to convert and match country names"
   ]
  },
  {
   "cell_type": "code",
   "execution_count": 4,
   "id": "2fbbbccd",
   "metadata": {},
   "outputs": [],
   "source": [
    "df = pd.read_csv('data/merged.csv')"
   ]
  },
  {
   "cell_type": "markdown",
   "id": "c034a739",
   "metadata": {},
   "source": [
    "<hr>\n",
    "<a class=\"anchor\" id=\"age\">\n",
    "    \n",
    "# Age\n",
    "    \n",
    "</a>"
   ]
  },
  {
   "cell_type": "code",
   "execution_count": 6,
   "id": "cef9cd9e",
   "metadata": {},
   "outputs": [],
   "source": [
    "x = df['prizeAge']\n",
    "hist_data = dict(type='histogram', x=x, marker=dict(color='silver'))\n",
    "layout = dict(title=dict(text='Ages Distribution'))\n",
    "fig_1 = go.Figure(data=hist_data, layout=layout)\n",
    "fig_1.show(renderer='browser')"
   ]
  },
  {
   "cell_type": "markdown",
   "id": "45ec3c55",
   "metadata": {},
   "source": [
    "<hr>\n",
    "<a class=\"anchor\" id=\"gender\">\n",
    "    \n",
    "# Gender\n",
    "    \n",
    "</a>"
   ]
  },
  {
   "cell_type": "code",
   "execution_count": 7,
   "id": "bafe3824",
   "metadata": {},
   "outputs": [
    {
     "data": {
      "text/plain": [
       "array(['male', 'female'], dtype=object)"
      ]
     },
     "execution_count": 7,
     "metadata": {},
     "output_type": "execute_result"
    }
   ],
   "source": [
    "df['gender'].unique()"
   ]
  },
  {
   "cell_type": "code",
   "execution_count": 9,
   "id": "67963291",
   "metadata": {},
   "outputs": [],
   "source": [
    "gender_labels = df['gender'].value_counts()\n",
    "gender_values = (gender_labels / gender_labels.sum()) * 100\n",
    "unique_genders = df['gender'].unique()\n",
    "\n",
    "gender_data = dict(type='pie',\n",
    "                        labels=unique_genders,\n",
    "                        values=gender_values,\n",
    "                        textposition='inside', \n",
    "                        hole=0.6,\n",
    "                        marker=dict(colors=['#333F44', '#37AA9C']) # '#94F3E4'\n",
    "                        )\n",
    "\n",
    "gender_layout = dict(title=dict(text='Prizes by Gender')\n",
    "                  )\n",
    "\n",
    "gender = go.Figure(data=[gender_data], layout=gender_layout)\n",
    "\n",
    "gender.show(renderer='browser')"
   ]
  },
  {
   "cell_type": "markdown",
   "id": "546abcaf",
   "metadata": {},
   "source": [
    "<hr>\n",
    "<a class=\"anchor\" id=\"category\">\n",
    "    \n",
    "# Category \n",
    "    \n",
    "</a>"
   ]
  },
  {
   "cell_type": "code",
   "execution_count": 10,
   "id": "40c0bb1a",
   "metadata": {},
   "outputs": [],
   "source": [
    "category_labels = df['category'].value_counts()\n",
    "category_values = (category_labels / category_labels.sum()) * 100\n",
    "unique_category = df['category'].unique()\n",
    "\n",
    "bar_category_data = dict(type='bar',\n",
    "                        x=unique_category,\n",
    "                        y=category_values,\n",
    "                        marker=dict(color=['#333F44', '#4D5A64', '#68757E', '#828F99', '#9DA9B3', '#B7C4CE', '#D2DEE8', '#A9EDE2', '#93d9f2', '#94F3E4']))\n",
    "\n",
    "bar_category_layout = dict(title=dict(text='Prizes by Category'), xaxis=dict(title='category'), yaxis=dict(title='Percentage'),\n",
    "                           paper_bgcolor='rgba(0,0,0,0)', plot_bgcolor='rgba(0,0,0,0)'\n",
    "                  )\n",
    "\n",
    "bar_fig = go.Figure(data=[bar_category_data], layout=bar_category_layout)\n",
    "\n",
    "bar_fig.show(renderer='browser')"
   ]
  },
  {
   "cell_type": "markdown",
   "id": "17561540",
   "metadata": {},
   "source": [
    "<hr>\n",
    "<a class=\"anchor\" id=\"agebygender\">\n",
    "    \n",
    "# Age by Gender\n",
    "    \n",
    "</a>"
   ]
  },
  {
   "cell_type": "code",
   "execution_count": 11,
   "id": "695fa6ed",
   "metadata": {},
   "outputs": [],
   "source": [
    "# Filter data by gender\n",
    "male_data = df.loc[df['gender'] == 'male', 'prizeAge']\n",
    "female_data = df.loc[df['gender'] == 'female', 'prizeAge']\n",
    "\n",
    "# Create traces for each group\n",
    "male_hist = go.Histogram(x=male_data, name='Male', marker=dict(color='#333F44'))\n",
    "female_hist = go.Histogram(x=female_data, name='Female', marker=dict(color='#37AA9C'))\n",
    "\n",
    "# Create layout\n",
    "layout = go.Layout(title=dict(text='Ages Distribution by Gender'), \n",
    "                  paper_bgcolor='rgba(0,0,0,0)', plot_bgcolor='rgba(0,0,0,0)')\n",
    "\n",
    "# Create figure and plot\n",
    "fig_1 = go.Figure(data=[male_hist, female_hist], layout=layout)\n",
    "fig_1.show(renderer='browser')"
   ]
  },
  {
   "cell_type": "code",
   "execution_count": 14,
   "id": "170d7f3a",
   "metadata": {},
   "outputs": [],
   "source": [
    "fig = px.histogram(df, x = 'prizeAge', color = 'gender', \n",
    "                  marginal = 'box', # or violin, rug, box\n",
    "                  hover_data = df.columns,\n",
    "                  color_discrete_sequence=['#333F44', '#37AA9C'])\n",
    "\n",
    "fig.update_layout(plot_bgcolor='rgba(0,0,0,0)')\n",
    "\n",
    "fig.show(renderer='browser')"
   ]
  },
  {
   "cell_type": "code",
   "execution_count": 15,
   "id": "0872990a",
   "metadata": {},
   "outputs": [],
   "source": [
    "fig = go.Figure()\n",
    "fig.add_trace(go.Histogram(name = 'Male', x=male_data, marker_color = '#333F44'))\n",
    "fig.add_trace(go.Histogram(name = 'Female', x=female_data, marker_color = '#37AA9C'))\n",
    "\n",
    "# Overlay both histograms\n",
    "fig.update_layout(barmode='overlay', plot_bgcolor='rgba(0,0,0,0)')\n",
    "# Reduce opacity to see both histograms\n",
    "fig.update_traces(opacity=0.75)\n",
    "fig.show(renderer='browser')"
   ]
  },
  {
   "cell_type": "code",
   "execution_count": 16,
   "id": "1aadb857",
   "metadata": {},
   "outputs": [],
   "source": [
    "# Filter data by gender\n",
    "male_data = df.loc[df['gender'] == 'male', 'prizeAge']\n",
    "female_data = df.loc[df['gender'] == 'female', 'prizeAge']\n",
    "\n",
    "# Group data together\n",
    "hist_data = [male_data, female_data]\n",
    "\n",
    "group_labels = ['Male', 'Female']\n",
    "\n",
    "colors = ['#333F44', '#37AA9C']\n",
    "\n",
    "# Create distplot with custom bin_size\n",
    "fig = ff.create_distplot(hist_data, group_labels, show_hist = False, colors = colors)\n",
    "# Add title\n",
    "fig.update_layout(title_text = 'Ages Distribution by Gender',  \n",
    "                  paper_bgcolor='rgba(0,0,0,0)', \n",
    "                  plot_bgcolor='rgba(0,0,0,0)')\n",
    "fig.show(renderer='browser')"
   ]
  },
  {
   "cell_type": "markdown",
   "id": "6f30eb96",
   "metadata": {},
   "source": [
    "<hr>\n",
    "<a class=\"anchor\" id=\"categorybygender\">\n",
    "    \n",
    "# Category by gender\n",
    "    \n",
    "</a>"
   ]
  },
  {
   "cell_type": "code",
   "execution_count": 17,
   "id": "f7b4d88e",
   "metadata": {},
   "outputs": [],
   "source": [
    "# Filter data by gender\n",
    "male_data = df.loc[df['gender'] == 'male', :]\n",
    "female_data = df.loc[df['gender'] == 'female', :]\n",
    "\n",
    "# Compute category values for each group\n",
    "male_category_labels = male_data['category'].value_counts()\n",
    "female_category_labels = female_data['category'].value_counts()\n",
    "\n",
    "# Create traces for each group\n",
    "male_bar = go.Bar(x=male_category_labels.index, y=male_category_labels.values, name='Male', marker=dict(color='#333F44'))\n",
    "female_bar = go.Bar(x=female_category_labels.index, y=female_category_labels.values, name='Female', marker=dict(color='#37AA9C'))\n",
    "\n",
    "# Create layout\n",
    "layout = go.Layout(title=dict(text='Prizes by Category'), \n",
    "                   xaxis=dict(title='category'), \n",
    "                   yaxis=dict(title='Count'),  \n",
    "                   paper_bgcolor='rgba(0,0,0,0)', \n",
    "                   plot_bgcolor='rgba(0,0,0,0)')\n",
    "\n",
    "# Create figure and plot\n",
    "fig = go.Figure(data=[male_bar, female_bar], layout=layout)\n",
    "fig.show(renderer='browser')"
   ]
  },
  {
   "cell_type": "code",
   "execution_count": 18,
   "id": "a8f25a94",
   "metadata": {},
   "outputs": [],
   "source": [
    "fig = px.histogram(df, x='prizeAge', color='gender',\n",
    "                   marginal='box', # or violin, rug, box\n",
    "                   hover_data=df.columns,\n",
    "                   color_discrete_sequence=['#333F44', '#37AA9C'],\n",
    "                   facet_col='category')  # add facet_col argument\n",
    "\n",
    "fig.update_layout(plot_bgcolor='rgba(0,0,0,0)')\n",
    "\n",
    "fig.show(renderer='browser')"
   ]
  },
  {
   "cell_type": "markdown",
   "id": "3508c7a2",
   "metadata": {},
   "source": [
    "<hr>\n",
    "<a class=\"anchor\" id=\"topwinners\">\n",
    "    \n",
    "# Top winners by Country, Region and Country Income\n",
    "    \n",
    "</a>"
   ]
  },
  {
   "cell_type": "code",
   "execution_count": null,
   "id": "0d9a20f3",
   "metadata": {},
   "outputs": [],
   "source": []
  }
 ],
 "metadata": {
  "kernelspec": {
   "display_name": "Python 3 (ipykernel)",
   "language": "python",
   "name": "python3"
  },
  "language_info": {
   "codemirror_mode": {
    "name": "ipython",
    "version": 3
   },
   "file_extension": ".py",
   "mimetype": "text/x-python",
   "name": "python",
   "nbconvert_exporter": "python",
   "pygments_lexer": "ipython3",
   "version": "3.9.13"
  }
 },
 "nbformat": 4,
 "nbformat_minor": 5
}
