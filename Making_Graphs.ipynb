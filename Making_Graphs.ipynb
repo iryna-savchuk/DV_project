{
 "cells": [
  {
   "attachments": {},
   "cell_type": "markdown",
   "id": "1e4ae973",
   "metadata": {},
   "source": [
    "# 1. Import Libraries"
   ]
  },
  {
   "cell_type": "code",
   "execution_count": 5,
   "id": "7f437d17",
   "metadata": {},
   "outputs": [],
   "source": [
    "import pandas as pd\n",
    "import matplotlib.pyplot as plt\n",
    "import seaborn as sb\n",
    "#import missingno as msno\n",
    "import plotly.graph_objects as go"
   ]
  },
  {
   "cell_type": "code",
   "execution_count": 6,
   "id": "2fbbbccd",
   "metadata": {},
   "outputs": [],
   "source": [
    "df = pd.read_csv('data/merged.csv')"
   ]
  },
  {
   "cell_type": "markdown",
   "id": "c034a739",
   "metadata": {},
   "source": [
    "## Age"
   ]
  },
  {
   "cell_type": "code",
   "execution_count": 7,
   "id": "cef9cd9e",
   "metadata": {},
   "outputs": [
    {
     "data": {
      "text/html": [
       "<iframe\n",
       "    scrolling=\"no\"\n",
       "    width=\"100%\"\n",
       "    height=\"545px\"\n",
       "    src=\"iframe_figures/figure_7.html\"\n",
       "    frameborder=\"0\"\n",
       "    allowfullscreen\n",
       "></iframe>\n"
      ]
     },
     "metadata": {},
     "output_type": "display_data"
    }
   ],
   "source": [
    "x = df['prizeAge']\n",
    "hist_data = dict(type='histogram', x=x, marker=dict(color='silver'))\n",
    "layout = dict(title=dict(text='Ages Distribution'))\n",
    "fig_1 = go.Figure(data=hist_data, layout=layout)\n",
    "fig_1.show(renderer='iframe')"
   ]
  },
  {
   "cell_type": "markdown",
   "id": "45ec3c55",
   "metadata": {},
   "source": [
    "## Gender"
   ]
  },
  {
   "cell_type": "code",
   "execution_count": 8,
   "id": "bafe3824",
   "metadata": {},
   "outputs": [
    {
     "data": {
      "text/plain": [
       "array(['male', 'female', 'org'], dtype=object)"
      ]
     },
     "execution_count": 8,
     "metadata": {},
     "output_type": "execute_result"
    }
   ],
   "source": [
    "df['gender'].unique()"
   ]
  },
  {
   "cell_type": "code",
   "execution_count": 9,
   "id": "67963291",
   "metadata": {},
   "outputs": [
    {
     "data": {
      "text/html": [
       "<iframe\n",
       "    scrolling=\"no\"\n",
       "    width=\"100%\"\n",
       "    height=\"545px\"\n",
       "    src=\"iframe_figures/figure_9.html\"\n",
       "    frameborder=\"0\"\n",
       "    allowfullscreen\n",
       "></iframe>\n"
      ]
     },
     "metadata": {},
     "output_type": "display_data"
    }
   ],
   "source": [
    "gender_labels = df['gender'].value_counts()\n",
    "gender_values = (gender_labels / gender_labels.sum()) * 100\n",
    "unique_genders = df['gender'].unique()\n",
    "\n",
    "gender_data = dict(type='pie',\n",
    "                        labels=unique_genders,\n",
    "                        values=gender_values,\n",
    "                        textposition='inside', \n",
    "                        hole=0.6,\n",
    "                        marker=dict(colors=['#0077c2', '#349de6', '#81cdf0'])\n",
    "                        )\n",
    "\n",
    "gender_layout = dict(title=dict(text='Prizes by Gender')\n",
    "                  )\n",
    "\n",
    "gender = go.Figure(data=[gender_data], layout=gender_layout)\n",
    "\n",
    "gender.show(renderer='iframe')"
   ]
  },
  {
   "cell_type": "code",
   "execution_count": null,
   "id": "964c274a",
   "metadata": {},
   "outputs": [],
   "source": []
  },
  {
   "cell_type": "markdown",
   "id": "546abcaf",
   "metadata": {},
   "source": [
    "## Category "
   ]
  },
  {
   "cell_type": "code",
   "execution_count": 10,
   "id": "40c0bb1a",
   "metadata": {},
   "outputs": [
    {
     "data": {
      "text/html": [
       "<iframe\n",
       "    scrolling=\"no\"\n",
       "    width=\"100%\"\n",
       "    height=\"545px\"\n",
       "    src=\"iframe_figures/figure_10.html\"\n",
       "    frameborder=\"0\"\n",
       "    allowfullscreen\n",
       "></iframe>\n"
      ]
     },
     "metadata": {},
     "output_type": "display_data"
    }
   ],
   "source": [
    "category_labels = df['category'].value_counts()\n",
    "category_values = (category_labels / category_labels.sum()) * 100\n",
    "unique_category = df['category'].unique()\n",
    "\n",
    "bar_category_data = dict(type='bar',\n",
    "                        x=unique_category,\n",
    "                        y=category_values,\n",
    "                        marker=dict(color=['#0077c2', '#1083d3', '#2290e4', '#349de6', '#4aa9e9', '#5cb5eb', '#6fc1ed', '#81cdf0', '#93d9f2']))\n",
    "\n",
    "bar_category_layout = dict(title=dict(text='Prizes by Category'), xaxis=dict(title='category'), yaxis=dict(title='Percentage')\n",
    "                  )\n",
    "\n",
    "bar_fig = go.Figure(data=[bar_category_data], layout=bar_category_layout)\n",
    "\n",
    "bar_fig.show(renderer='iframe')"
   ]
  },
  {
   "cell_type": "code",
   "execution_count": null,
   "id": "0b672ab7",
   "metadata": {},
   "outputs": [],
   "source": []
  },
  {
   "cell_type": "code",
   "execution_count": null,
   "id": "655bc807",
   "metadata": {},
   "outputs": [],
   "source": []
  },
  {
   "cell_type": "code",
   "execution_count": null,
   "id": "df76be24",
   "metadata": {},
   "outputs": [],
   "source": []
  }
 ],
 "metadata": {
  "kernelspec": {
   "display_name": ".env",
   "language": "python",
   "name": ".env"
  },
  "language_info": {
   "codemirror_mode": {
    "name": "ipython",
    "version": 3
   },
   "file_extension": ".py",
   "mimetype": "text/x-python",
   "name": "python",
   "nbconvert_exporter": "python",
   "pygments_lexer": "ipython3",
   "version": "3.10.4"
  }
 },
 "nbformat": 4,
 "nbformat_minor": 5
}
