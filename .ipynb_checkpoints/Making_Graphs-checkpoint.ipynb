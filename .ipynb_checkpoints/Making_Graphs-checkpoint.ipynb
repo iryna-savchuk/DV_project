{
 "cells": [
  {
   "cell_type": "markdown",
   "id": "1e4ae973",
   "metadata": {},
   "source": [
    "# 1. Import Libraries"
   ]
  },
  {
   "cell_type": "code",
   "execution_count": 1,
   "id": "7f437d17",
   "metadata": {},
   "outputs": [],
   "source": [
    "import pandas as pd\n",
    "import numpy as np\n",
    "\n",
    "import matplotlib.pyplot as plt\n",
    "import seaborn as sb\n",
    "import plotly.graph_objects as go\n",
    "\n",
    "import geojson\n",
    "import country_converter as coco # to convert and match country names"
   ]
  },
  {
   "cell_type": "code",
   "execution_count": 2,
   "id": "2fbbbccd",
   "metadata": {},
   "outputs": [],
   "source": [
    "df = pd.read_csv('data/merged.csv')"
   ]
  },
  {
   "cell_type": "markdown",
   "id": "c034a739",
   "metadata": {},
   "source": [
    "## Age"
   ]
  },
  {
   "cell_type": "code",
   "execution_count": 3,
   "id": "cef9cd9e",
   "metadata": {},
   "outputs": [],
   "source": [
    "x = df['prizeAge']\n",
    "hist_data = dict(type='histogram', x=x, marker=dict(color='silver'))\n",
    "layout = dict(title=dict(text='Ages Distribution'))\n",
    "fig_1 = go.Figure(data=hist_data, layout=layout)\n",
    "fig_1.show(renderer='browser')"
   ]
  },
  {
   "cell_type": "markdown",
   "id": "45ec3c55",
   "metadata": {},
   "source": [
    "## Gender"
   ]
  },
  {
   "cell_type": "code",
   "execution_count": 4,
   "id": "bafe3824",
   "metadata": {},
   "outputs": [
    {
     "data": {
      "text/plain": [
       "array(['male', 'female', 'org'], dtype=object)"
      ]
     },
     "execution_count": 4,
     "metadata": {},
     "output_type": "execute_result"
    }
   ],
   "source": [
    "df['gender'].unique()"
   ]
  },
  {
   "cell_type": "code",
   "execution_count": 5,
   "id": "67963291",
   "metadata": {},
   "outputs": [],
   "source": [
    "gender_labels = df['gender'].value_counts()\n",
    "gender_values = (gender_labels / gender_labels.sum()) * 100\n",
    "unique_genders = df['gender'].unique()\n",
    "\n",
    "gender_data = dict(type='pie',\n",
    "                        labels=unique_genders,\n",
    "                        values=gender_values,\n",
    "                        textposition='inside', \n",
    "                        hole=0.6,\n",
    "                        marker=dict(colors=['#0077c2', '#349de6', '#81cdf0'])\n",
    "                        )\n",
    "\n",
    "gender_layout = dict(title=dict(text='Prizes by Gender')\n",
    "                  )\n",
    "\n",
    "gender = go.Figure(data=[gender_data], layout=gender_layout)\n",
    "\n",
    "gender.show(renderer='browser')"
   ]
  },
  {
   "cell_type": "code",
   "execution_count": null,
   "id": "964c274a",
   "metadata": {},
   "outputs": [],
   "source": []
  },
  {
   "cell_type": "markdown",
   "id": "546abcaf",
   "metadata": {},
   "source": [
    "## Category "
   ]
  },
  {
   "cell_type": "code",
   "execution_count": 6,
   "id": "40c0bb1a",
   "metadata": {},
   "outputs": [],
   "source": [
    "category_labels = df['category'].value_counts()\n",
    "category_values = (category_labels / category_labels.sum()) * 100\n",
    "unique_category = df['category'].unique()\n",
    "\n",
    "bar_category_data = dict(type='bar',\n",
    "                        x=unique_category,\n",
    "                        y=category_values,\n",
    "                        marker=dict(color=['#0077c2', '#1083d3', '#2290e4', '#349de6', '#4aa9e9', '#5cb5eb', '#6fc1ed', '#81cdf0', '#93d9f2']))\n",
    "\n",
    "bar_category_layout = dict(title=dict(text='Prizes by Category'), xaxis=dict(title='category'), yaxis=dict(title='Percentage')\n",
    "                  )\n",
    "\n",
    "bar_fig = go.Figure(data=[bar_category_data], layout=bar_category_layout)\n",
    "\n",
    "bar_fig.show(renderer='browser')"
   ]
  },
  {
   "cell_type": "code",
   "execution_count": null,
   "id": "d23529b8",
   "metadata": {},
   "outputs": [],
   "source": []
  }
 ],
 "metadata": {
  "kernelspec": {
   "display_name": "Python 3 (ipykernel)",
   "language": "python",
   "name": "python3"
  },
  "language_info": {
   "codemirror_mode": {
    "name": "ipython",
    "version": 3
   },
   "file_extension": ".py",
   "mimetype": "text/x-python",
   "name": "python",
   "nbconvert_exporter": "python",
   "pygments_lexer": "ipython3",
   "version": "3.9.13"
  }
 },
 "nbformat": 4,
 "nbformat_minor": 5
}
